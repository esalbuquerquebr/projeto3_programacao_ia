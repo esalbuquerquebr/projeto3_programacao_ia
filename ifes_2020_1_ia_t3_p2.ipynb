{
  "nbformat": 4,
  "nbformat_minor": 0,
  "metadata": {
    "colab": {
      "name": "ifes-2020-1-ia-t3-p2",
      "provenance": [],
      "collapsed_sections": [
        "lxH9JZb9UJV2",
        "WuxrC6lgvt_v",
        "XHdkdtfTuI2a",
        "ZoO60Z7uw0xg",
        "EiPZ8tW30a-p",
        "bzqEboik0vO9",
        "DiKCZHB8ZnGH",
        "v0LSNgzec4qA",
        "UD34i_2Yd48f"
      ],
      "toc_visible": true,
      "authorship_tag": "ABX9TyOoRooaaJRKr2kErvl5lXfm",
      "include_colab_link": true
    },
    "kernelspec": {
      "name": "python3",
      "display_name": "Python 3"
    }
  },
  "cells": [
    {
      "cell_type": "markdown",
      "metadata": {
        "id": "view-in-github",
        "colab_type": "text"
      },
      "source": [
        "<a href=\"https://colab.research.google.com/github/esalbuquerquebr/projeto3_programacao_ia/blob/master/ifes_2020_1_ia_t3_p2.ipynb\" target=\"_parent\"><img src=\"https://colab.research.google.com/assets/colab-badge.svg\" alt=\"Open In Colab\"/></a>"
      ]
    },
    {
      "cell_type": "markdown",
      "metadata": {
        "id": "i3MJQQ1LT7MJ",
        "colab_type": "text"
      },
      "source": [
        "# Projeto de Programação – Trabalho 3 – Learning\n",
        "## Problema 2 - Aprendizado Supervisionado\n",
        "### IFES | 2020/1 | Inteligência Artificial\n",
        "### Eduardo Soares Albuquerque\n",
        "--------------------------------------"
      ]
    },
    {
      "cell_type": "markdown",
      "metadata": {
        "id": "lxH9JZb9UJV2",
        "colab_type": "text"
      },
      "source": [
        "## Instruções para download do dataset e demais arquivos"
      ]
    },
    {
      "cell_type": "markdown",
      "metadata": {
        "id": "WuxrC6lgvt_v",
        "colab_type": "text"
      },
      "source": [
        "### Instalando o Kaggle"
      ]
    },
    {
      "cell_type": "code",
      "metadata": {
        "id": "8nG_C6QdMyIK",
        "colab_type": "code",
        "colab": {
          "base_uri": "https://localhost:8080/",
          "height": 0
        },
        "outputId": "65e6ac23-0bf8-44e1-c9af-de8fc9f9925b"
      },
      "source": [
        "!pip install kaggle"
      ],
      "execution_count": 77,
      "outputs": [
        {
          "output_type": "stream",
          "text": [
            "Requirement already satisfied: kaggle in /usr/local/lib/python3.6/dist-packages (1.5.8)\n",
            "Requirement already satisfied: urllib3<1.25,>=1.21.1 in /usr/local/lib/python3.6/dist-packages (from kaggle) (1.24.3)\n",
            "Requirement already satisfied: tqdm in /usr/local/lib/python3.6/dist-packages (from kaggle) (4.41.1)\n",
            "Requirement already satisfied: certifi in /usr/local/lib/python3.6/dist-packages (from kaggle) (2020.6.20)\n",
            "Requirement already satisfied: requests in /usr/local/lib/python3.6/dist-packages (from kaggle) (2.23.0)\n",
            "Requirement already satisfied: python-slugify in /usr/local/lib/python3.6/dist-packages (from kaggle) (4.0.1)\n",
            "Requirement already satisfied: slugify in /usr/local/lib/python3.6/dist-packages (from kaggle) (0.0.1)\n",
            "Requirement already satisfied: six>=1.10 in /usr/local/lib/python3.6/dist-packages (from kaggle) (1.15.0)\n",
            "Requirement already satisfied: python-dateutil in /usr/local/lib/python3.6/dist-packages (from kaggle) (2.8.1)\n",
            "Requirement already satisfied: chardet<4,>=3.0.2 in /usr/local/lib/python3.6/dist-packages (from requests->kaggle) (3.0.4)\n",
            "Requirement already satisfied: idna<3,>=2.5 in /usr/local/lib/python3.6/dist-packages (from requests->kaggle) (2.10)\n",
            "Requirement already satisfied: text-unidecode>=1.3 in /usr/local/lib/python3.6/dist-packages (from python-slugify->kaggle) (1.3)\n"
          ],
          "name": "stdout"
        }
      ]
    },
    {
      "cell_type": "markdown",
      "metadata": {
        "id": "XHdkdtfTuI2a",
        "colab_type": "text"
      },
      "source": [
        "### Orientações para autenticar no Kaggle usando kaggle.json\n",
        "\n",
        "Navegue até as configurações de perfil do seu usuário: https://www.kaggle.com/me/account e clique em 'Create API Token' para fazer o download do kaggle.json para ser utilizado abaixo."
      ]
    },
    {
      "cell_type": "code",
      "metadata": {
        "id": "MPGtxtA3VZEb",
        "colab_type": "code",
        "colab": {
          "resources": {
            "http://localhost:8080/nbextensions/google.colab/files.js": {
              "data": "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",
              "ok": true,
              "headers": [
                [
                  "content-type",
                  "application/javascript"
                ]
              ],
              "status": 200,
              "status_text": ""
            }
          },
          "base_uri": "https://localhost:8080/",
          "height": 89
        },
        "outputId": "9cdf9066-5036-4907-ac5e-3438e57a5d96"
      },
      "source": [
        "from google.colab import files\n",
        "\n",
        "uploaded = files.upload()\n",
        "\n",
        "for fn in uploaded.keys():\n",
        "  print('User uploaded file \"{name}\" with length {length} bytes'.format(\n",
        "      name=fn, length=len(uploaded[fn])))\n",
        "  \n",
        "# Then move kaggle.json into the folder where the API expects to find it.\n",
        "!mkdir -p ~/.kaggle/ && mv kaggle.json ~/.kaggle/ && chmod 600 ~/.kaggle/kaggle.json"
      ],
      "execution_count": 78,
      "outputs": [
        {
          "output_type": "display_data",
          "data": {
            "text/html": [
              "\n",
              "     <input type=\"file\" id=\"files-51e79617-2e03-453d-af0c-3f7eacd3d698\" name=\"files[]\" multiple disabled\n",
              "        style=\"border:none\" />\n",
              "     <output id=\"result-51e79617-2e03-453d-af0c-3f7eacd3d698\">\n",
              "      Upload widget is only available when the cell has been executed in the\n",
              "      current browser session. Please rerun this cell to enable.\n",
              "      </output>\n",
              "      <script src=\"/nbextensions/google.colab/files.js\"></script> "
            ],
            "text/plain": [
              "<IPython.core.display.HTML object>"
            ]
          },
          "metadata": {
            "tags": []
          }
        },
        {
          "output_type": "stream",
          "text": [
            "Saving kaggle.json to kaggle.json\n",
            "User uploaded file \"kaggle.json\" with length 74 bytes\n"
          ],
          "name": "stdout"
        }
      ]
    },
    {
      "cell_type": "markdown",
      "metadata": {
        "id": "3rZ9PDmYwF6O",
        "colab_type": "text"
      },
      "source": [
        "### Download e unzip do dataset"
      ]
    },
    {
      "cell_type": "code",
      "metadata": {
        "id": "buvGBf38vRQD",
        "colab_type": "code",
        "colab": {
          "base_uri": "https://localhost:8080/",
          "height": 68
        },
        "outputId": "f1d3a9d4-9bae-4a92-a0dd-62c2a21408ae"
      },
      "source": [
        "!kaggle datasets download -d ronitf/heart-disease-uci -p ./sample_data --unzip"
      ],
      "execution_count": 79,
      "outputs": [
        {
          "output_type": "stream",
          "text": [
            "Downloading heart-disease-uci.zip to ./sample_data\n",
            "\r  0% 0.00/3.40k [00:00<?, ?B/s]\n",
            "\r100% 3.40k/3.40k [00:00<00:00, 1.32MB/s]\n"
          ],
          "name": "stdout"
        }
      ]
    },
    {
      "cell_type": "markdown",
      "metadata": {
        "id": "HyD_aqSVwdda",
        "colab_type": "text"
      },
      "source": [
        "## Código-fonte para o Problema 2"
      ]
    },
    {
      "cell_type": "markdown",
      "metadata": {
        "id": "n65n_RhCwrfB",
        "colab_type": "text"
      },
      "source": [
        "### Imports das bibliotecas"
      ]
    },
    {
      "cell_type": "code",
      "metadata": {
        "id": "lEv5gZpWQ-E-",
        "colab_type": "code",
        "colab": {}
      },
      "source": [
        "import time\n",
        "import pandas as pd\n",
        "import numpy as np\n",
        "import matplotlib.pyplot as plt\n",
        "import seaborn as sns\n",
        "\n",
        "# Metricas, pre-processamento e relatorios de resultados\n",
        "from sklearn import preprocessing\n",
        "from sklearn.model_selection import train_test_split\n",
        "from sklearn.metrics import confusion_matrix\n",
        "from sklearn.metrics import classification_report\n",
        "from sklearn.metrics import accuracy_score\n",
        "from sklearn.metrics import precision_score\n",
        "from sklearn.metrics import recall_score\n",
        "\n",
        "# Classificadores\n",
        "from sklearn.neighbors import KNeighborsClassifier\n",
        "from sklearn.svm import SVC\n",
        "from sklearn.ensemble import RandomForestClassifier\n",
        "from sklearn.neural_network import MLPClassifier\n",
        "from sklearn.ensemble import GradientBoostingClassifier\n",
        "\n"
      ],
      "execution_count": 80,
      "outputs": []
    },
    {
      "cell_type": "markdown",
      "metadata": {
        "id": "ZoO60Z7uw0xg",
        "colab_type": "text"
      },
      "source": [
        "### Leitura do dataset (heart.csv)"
      ]
    },
    {
      "cell_type": "code",
      "metadata": {
        "id": "OyLlaeYow9sB",
        "colab_type": "code",
        "colab": {
          "base_uri": "https://localhost:8080/",
          "height": 359
        },
        "outputId": "6172283b-ea22-4688-f5be-5b12a908a84d"
      },
      "source": [
        "dataset = pd.read_csv('./sample_data/heart.csv')\n",
        "dataset.head(10)\n"
      ],
      "execution_count": 156,
      "outputs": [
        {
          "output_type": "execute_result",
          "data": {
            "text/html": [
              "<div>\n",
              "<style scoped>\n",
              "    .dataframe tbody tr th:only-of-type {\n",
              "        vertical-align: middle;\n",
              "    }\n",
              "\n",
              "    .dataframe tbody tr th {\n",
              "        vertical-align: top;\n",
              "    }\n",
              "\n",
              "    .dataframe thead th {\n",
              "        text-align: right;\n",
              "    }\n",
              "</style>\n",
              "<table border=\"1\" class=\"dataframe\">\n",
              "  <thead>\n",
              "    <tr style=\"text-align: right;\">\n",
              "      <th></th>\n",
              "      <th>age</th>\n",
              "      <th>sex</th>\n",
              "      <th>cp</th>\n",
              "      <th>trestbps</th>\n",
              "      <th>chol</th>\n",
              "      <th>fbs</th>\n",
              "      <th>restecg</th>\n",
              "      <th>thalach</th>\n",
              "      <th>exang</th>\n",
              "      <th>oldpeak</th>\n",
              "      <th>slope</th>\n",
              "      <th>ca</th>\n",
              "      <th>thal</th>\n",
              "      <th>target</th>\n",
              "    </tr>\n",
              "  </thead>\n",
              "  <tbody>\n",
              "    <tr>\n",
              "      <th>0</th>\n",
              "      <td>63</td>\n",
              "      <td>1</td>\n",
              "      <td>3</td>\n",
              "      <td>145</td>\n",
              "      <td>233</td>\n",
              "      <td>1</td>\n",
              "      <td>0</td>\n",
              "      <td>150</td>\n",
              "      <td>0</td>\n",
              "      <td>2.3</td>\n",
              "      <td>0</td>\n",
              "      <td>0</td>\n",
              "      <td>1</td>\n",
              "      <td>1</td>\n",
              "    </tr>\n",
              "    <tr>\n",
              "      <th>1</th>\n",
              "      <td>37</td>\n",
              "      <td>1</td>\n",
              "      <td>2</td>\n",
              "      <td>130</td>\n",
              "      <td>250</td>\n",
              "      <td>0</td>\n",
              "      <td>1</td>\n",
              "      <td>187</td>\n",
              "      <td>0</td>\n",
              "      <td>3.5</td>\n",
              "      <td>0</td>\n",
              "      <td>0</td>\n",
              "      <td>2</td>\n",
              "      <td>1</td>\n",
              "    </tr>\n",
              "    <tr>\n",
              "      <th>2</th>\n",
              "      <td>41</td>\n",
              "      <td>0</td>\n",
              "      <td>1</td>\n",
              "      <td>130</td>\n",
              "      <td>204</td>\n",
              "      <td>0</td>\n",
              "      <td>0</td>\n",
              "      <td>172</td>\n",
              "      <td>0</td>\n",
              "      <td>1.4</td>\n",
              "      <td>2</td>\n",
              "      <td>0</td>\n",
              "      <td>2</td>\n",
              "      <td>1</td>\n",
              "    </tr>\n",
              "    <tr>\n",
              "      <th>3</th>\n",
              "      <td>56</td>\n",
              "      <td>1</td>\n",
              "      <td>1</td>\n",
              "      <td>120</td>\n",
              "      <td>236</td>\n",
              "      <td>0</td>\n",
              "      <td>1</td>\n",
              "      <td>178</td>\n",
              "      <td>0</td>\n",
              "      <td>0.8</td>\n",
              "      <td>2</td>\n",
              "      <td>0</td>\n",
              "      <td>2</td>\n",
              "      <td>1</td>\n",
              "    </tr>\n",
              "    <tr>\n",
              "      <th>4</th>\n",
              "      <td>57</td>\n",
              "      <td>0</td>\n",
              "      <td>0</td>\n",
              "      <td>120</td>\n",
              "      <td>354</td>\n",
              "      <td>0</td>\n",
              "      <td>1</td>\n",
              "      <td>163</td>\n",
              "      <td>1</td>\n",
              "      <td>0.6</td>\n",
              "      <td>2</td>\n",
              "      <td>0</td>\n",
              "      <td>2</td>\n",
              "      <td>1</td>\n",
              "    </tr>\n",
              "    <tr>\n",
              "      <th>5</th>\n",
              "      <td>57</td>\n",
              "      <td>1</td>\n",
              "      <td>0</td>\n",
              "      <td>140</td>\n",
              "      <td>192</td>\n",
              "      <td>0</td>\n",
              "      <td>1</td>\n",
              "      <td>148</td>\n",
              "      <td>0</td>\n",
              "      <td>0.4</td>\n",
              "      <td>1</td>\n",
              "      <td>0</td>\n",
              "      <td>1</td>\n",
              "      <td>1</td>\n",
              "    </tr>\n",
              "    <tr>\n",
              "      <th>6</th>\n",
              "      <td>56</td>\n",
              "      <td>0</td>\n",
              "      <td>1</td>\n",
              "      <td>140</td>\n",
              "      <td>294</td>\n",
              "      <td>0</td>\n",
              "      <td>0</td>\n",
              "      <td>153</td>\n",
              "      <td>0</td>\n",
              "      <td>1.3</td>\n",
              "      <td>1</td>\n",
              "      <td>0</td>\n",
              "      <td>2</td>\n",
              "      <td>1</td>\n",
              "    </tr>\n",
              "    <tr>\n",
              "      <th>7</th>\n",
              "      <td>44</td>\n",
              "      <td>1</td>\n",
              "      <td>1</td>\n",
              "      <td>120</td>\n",
              "      <td>263</td>\n",
              "      <td>0</td>\n",
              "      <td>1</td>\n",
              "      <td>173</td>\n",
              "      <td>0</td>\n",
              "      <td>0.0</td>\n",
              "      <td>2</td>\n",
              "      <td>0</td>\n",
              "      <td>3</td>\n",
              "      <td>1</td>\n",
              "    </tr>\n",
              "    <tr>\n",
              "      <th>8</th>\n",
              "      <td>52</td>\n",
              "      <td>1</td>\n",
              "      <td>2</td>\n",
              "      <td>172</td>\n",
              "      <td>199</td>\n",
              "      <td>1</td>\n",
              "      <td>1</td>\n",
              "      <td>162</td>\n",
              "      <td>0</td>\n",
              "      <td>0.5</td>\n",
              "      <td>2</td>\n",
              "      <td>0</td>\n",
              "      <td>3</td>\n",
              "      <td>1</td>\n",
              "    </tr>\n",
              "    <tr>\n",
              "      <th>9</th>\n",
              "      <td>57</td>\n",
              "      <td>1</td>\n",
              "      <td>2</td>\n",
              "      <td>150</td>\n",
              "      <td>168</td>\n",
              "      <td>0</td>\n",
              "      <td>1</td>\n",
              "      <td>174</td>\n",
              "      <td>0</td>\n",
              "      <td>1.6</td>\n",
              "      <td>2</td>\n",
              "      <td>0</td>\n",
              "      <td>2</td>\n",
              "      <td>1</td>\n",
              "    </tr>\n",
              "  </tbody>\n",
              "</table>\n",
              "</div>"
            ],
            "text/plain": [
              "   age  sex  cp  trestbps  chol  fbs  ...  exang  oldpeak  slope  ca  thal  target\n",
              "0   63    1   3       145   233    1  ...      0      2.3      0   0     1       1\n",
              "1   37    1   2       130   250    0  ...      0      3.5      0   0     2       1\n",
              "2   41    0   1       130   204    0  ...      0      1.4      2   0     2       1\n",
              "3   56    1   1       120   236    0  ...      0      0.8      2   0     2       1\n",
              "4   57    0   0       120   354    0  ...      1      0.6      2   0     2       1\n",
              "5   57    1   0       140   192    0  ...      0      0.4      1   0     1       1\n",
              "6   56    0   1       140   294    0  ...      0      1.3      1   0     2       1\n",
              "7   44    1   1       120   263    0  ...      0      0.0      2   0     3       1\n",
              "8   52    1   2       172   199    1  ...      0      0.5      2   0     3       1\n",
              "9   57    1   2       150   168    0  ...      0      1.6      2   0     2       1\n",
              "\n",
              "[10 rows x 14 columns]"
            ]
          },
          "metadata": {
            "tags": []
          },
          "execution_count": 156
        }
      ]
    },
    {
      "cell_type": "markdown",
      "metadata": {
        "id": "EiPZ8tW30a-p",
        "colab_type": "text"
      },
      "source": [
        "### Separação do dataset: features e target\n"
      ]
    },
    {
      "cell_type": "code",
      "metadata": {
        "id": "0KlbJsR4GRYX",
        "colab_type": "code",
        "colab": {}
      },
      "source": [
        "FEATURES_COLS = ['age',\t'sex',\t'cp',\t'trestbps',\t'chol',\t'fbs',\t'restecg',\t'thalach',\t'exang',\t'oldpeak',\t'slope',\t'ca',\t'thal']\t\n",
        "TARGET_COL = ['target']\t\n",
        "\n",
        "features = dataset[FEATURES_COLS]\n",
        "target = dataset[TARGET_COL]"
      ],
      "execution_count": 157,
      "outputs": []
    },
    {
      "cell_type": "markdown",
      "metadata": {
        "id": "bzqEboik0vO9",
        "colab_type": "text"
      },
      "source": [
        "### Normalização"
      ]
    },
    {
      "cell_type": "code",
      "metadata": {
        "id": "iINeDdhowD7u",
        "colab_type": "code",
        "colab": {
          "base_uri": "https://localhost:8080/",
          "height": 0
        },
        "outputId": "583e8bdd-13e5-4310-a66a-5284ea9c0e28"
      },
      "source": [
        "def normalize_dataset(dataset):\n",
        "    normalized = dataset.copy()\n",
        "    for feature in dataset.columns:\n",
        "        max_value = dataset[feature].max()\n",
        "        min_value = dataset[feature].min()\n",
        "        normalized[feature] = (dataset[feature] - min_value) / (max_value - min_value)\n",
        "    return normalized\n",
        "\n",
        "normalized = normalize_dataset(features)\n",
        "normalized.head(10)"
      ],
      "execution_count": 158,
      "outputs": [
        {
          "output_type": "execute_result",
          "data": {
            "text/html": [
              "<div>\n",
              "<style scoped>\n",
              "    .dataframe tbody tr th:only-of-type {\n",
              "        vertical-align: middle;\n",
              "    }\n",
              "\n",
              "    .dataframe tbody tr th {\n",
              "        vertical-align: top;\n",
              "    }\n",
              "\n",
              "    .dataframe thead th {\n",
              "        text-align: right;\n",
              "    }\n",
              "</style>\n",
              "<table border=\"1\" class=\"dataframe\">\n",
              "  <thead>\n",
              "    <tr style=\"text-align: right;\">\n",
              "      <th></th>\n",
              "      <th>age</th>\n",
              "      <th>sex</th>\n",
              "      <th>cp</th>\n",
              "      <th>trestbps</th>\n",
              "      <th>chol</th>\n",
              "      <th>fbs</th>\n",
              "      <th>restecg</th>\n",
              "      <th>thalach</th>\n",
              "      <th>exang</th>\n",
              "      <th>oldpeak</th>\n",
              "      <th>slope</th>\n",
              "      <th>ca</th>\n",
              "      <th>thal</th>\n",
              "    </tr>\n",
              "  </thead>\n",
              "  <tbody>\n",
              "    <tr>\n",
              "      <th>0</th>\n",
              "      <td>0.708333</td>\n",
              "      <td>1.0</td>\n",
              "      <td>1.000000</td>\n",
              "      <td>0.481132</td>\n",
              "      <td>0.244292</td>\n",
              "      <td>1.0</td>\n",
              "      <td>0.0</td>\n",
              "      <td>0.603053</td>\n",
              "      <td>0.0</td>\n",
              "      <td>0.370968</td>\n",
              "      <td>0.0</td>\n",
              "      <td>0.0</td>\n",
              "      <td>0.333333</td>\n",
              "    </tr>\n",
              "    <tr>\n",
              "      <th>1</th>\n",
              "      <td>0.166667</td>\n",
              "      <td>1.0</td>\n",
              "      <td>0.666667</td>\n",
              "      <td>0.339623</td>\n",
              "      <td>0.283105</td>\n",
              "      <td>0.0</td>\n",
              "      <td>0.5</td>\n",
              "      <td>0.885496</td>\n",
              "      <td>0.0</td>\n",
              "      <td>0.564516</td>\n",
              "      <td>0.0</td>\n",
              "      <td>0.0</td>\n",
              "      <td>0.666667</td>\n",
              "    </tr>\n",
              "    <tr>\n",
              "      <th>2</th>\n",
              "      <td>0.250000</td>\n",
              "      <td>0.0</td>\n",
              "      <td>0.333333</td>\n",
              "      <td>0.339623</td>\n",
              "      <td>0.178082</td>\n",
              "      <td>0.0</td>\n",
              "      <td>0.0</td>\n",
              "      <td>0.770992</td>\n",
              "      <td>0.0</td>\n",
              "      <td>0.225806</td>\n",
              "      <td>1.0</td>\n",
              "      <td>0.0</td>\n",
              "      <td>0.666667</td>\n",
              "    </tr>\n",
              "    <tr>\n",
              "      <th>3</th>\n",
              "      <td>0.562500</td>\n",
              "      <td>1.0</td>\n",
              "      <td>0.333333</td>\n",
              "      <td>0.245283</td>\n",
              "      <td>0.251142</td>\n",
              "      <td>0.0</td>\n",
              "      <td>0.5</td>\n",
              "      <td>0.816794</td>\n",
              "      <td>0.0</td>\n",
              "      <td>0.129032</td>\n",
              "      <td>1.0</td>\n",
              "      <td>0.0</td>\n",
              "      <td>0.666667</td>\n",
              "    </tr>\n",
              "    <tr>\n",
              "      <th>4</th>\n",
              "      <td>0.583333</td>\n",
              "      <td>0.0</td>\n",
              "      <td>0.000000</td>\n",
              "      <td>0.245283</td>\n",
              "      <td>0.520548</td>\n",
              "      <td>0.0</td>\n",
              "      <td>0.5</td>\n",
              "      <td>0.702290</td>\n",
              "      <td>1.0</td>\n",
              "      <td>0.096774</td>\n",
              "      <td>1.0</td>\n",
              "      <td>0.0</td>\n",
              "      <td>0.666667</td>\n",
              "    </tr>\n",
              "    <tr>\n",
              "      <th>5</th>\n",
              "      <td>0.583333</td>\n",
              "      <td>1.0</td>\n",
              "      <td>0.000000</td>\n",
              "      <td>0.433962</td>\n",
              "      <td>0.150685</td>\n",
              "      <td>0.0</td>\n",
              "      <td>0.5</td>\n",
              "      <td>0.587786</td>\n",
              "      <td>0.0</td>\n",
              "      <td>0.064516</td>\n",
              "      <td>0.5</td>\n",
              "      <td>0.0</td>\n",
              "      <td>0.333333</td>\n",
              "    </tr>\n",
              "    <tr>\n",
              "      <th>6</th>\n",
              "      <td>0.562500</td>\n",
              "      <td>0.0</td>\n",
              "      <td>0.333333</td>\n",
              "      <td>0.433962</td>\n",
              "      <td>0.383562</td>\n",
              "      <td>0.0</td>\n",
              "      <td>0.0</td>\n",
              "      <td>0.625954</td>\n",
              "      <td>0.0</td>\n",
              "      <td>0.209677</td>\n",
              "      <td>0.5</td>\n",
              "      <td>0.0</td>\n",
              "      <td>0.666667</td>\n",
              "    </tr>\n",
              "    <tr>\n",
              "      <th>7</th>\n",
              "      <td>0.312500</td>\n",
              "      <td>1.0</td>\n",
              "      <td>0.333333</td>\n",
              "      <td>0.245283</td>\n",
              "      <td>0.312785</td>\n",
              "      <td>0.0</td>\n",
              "      <td>0.5</td>\n",
              "      <td>0.778626</td>\n",
              "      <td>0.0</td>\n",
              "      <td>0.000000</td>\n",
              "      <td>1.0</td>\n",
              "      <td>0.0</td>\n",
              "      <td>1.000000</td>\n",
              "    </tr>\n",
              "    <tr>\n",
              "      <th>8</th>\n",
              "      <td>0.479167</td>\n",
              "      <td>1.0</td>\n",
              "      <td>0.666667</td>\n",
              "      <td>0.735849</td>\n",
              "      <td>0.166667</td>\n",
              "      <td>1.0</td>\n",
              "      <td>0.5</td>\n",
              "      <td>0.694656</td>\n",
              "      <td>0.0</td>\n",
              "      <td>0.080645</td>\n",
              "      <td>1.0</td>\n",
              "      <td>0.0</td>\n",
              "      <td>1.000000</td>\n",
              "    </tr>\n",
              "    <tr>\n",
              "      <th>9</th>\n",
              "      <td>0.583333</td>\n",
              "      <td>1.0</td>\n",
              "      <td>0.666667</td>\n",
              "      <td>0.528302</td>\n",
              "      <td>0.095890</td>\n",
              "      <td>0.0</td>\n",
              "      <td>0.5</td>\n",
              "      <td>0.786260</td>\n",
              "      <td>0.0</td>\n",
              "      <td>0.258065</td>\n",
              "      <td>1.0</td>\n",
              "      <td>0.0</td>\n",
              "      <td>0.666667</td>\n",
              "    </tr>\n",
              "  </tbody>\n",
              "</table>\n",
              "</div>"
            ],
            "text/plain": [
              "        age  sex        cp  trestbps  ...   oldpeak  slope   ca      thal\n",
              "0  0.708333  1.0  1.000000  0.481132  ...  0.370968    0.0  0.0  0.333333\n",
              "1  0.166667  1.0  0.666667  0.339623  ...  0.564516    0.0  0.0  0.666667\n",
              "2  0.250000  0.0  0.333333  0.339623  ...  0.225806    1.0  0.0  0.666667\n",
              "3  0.562500  1.0  0.333333  0.245283  ...  0.129032    1.0  0.0  0.666667\n",
              "4  0.583333  0.0  0.000000  0.245283  ...  0.096774    1.0  0.0  0.666667\n",
              "5  0.583333  1.0  0.000000  0.433962  ...  0.064516    0.5  0.0  0.333333\n",
              "6  0.562500  0.0  0.333333  0.433962  ...  0.209677    0.5  0.0  0.666667\n",
              "7  0.312500  1.0  0.333333  0.245283  ...  0.000000    1.0  0.0  1.000000\n",
              "8  0.479167  1.0  0.666667  0.735849  ...  0.080645    1.0  0.0  1.000000\n",
              "9  0.583333  1.0  0.666667  0.528302  ...  0.258065    1.0  0.0  0.666667\n",
              "\n",
              "[10 rows x 13 columns]"
            ]
          },
          "metadata": {
            "tags": []
          },
          "execution_count": 158
        }
      ]
    },
    {
      "cell_type": "markdown",
      "metadata": {
        "id": "pQgt1QsR1b3p",
        "colab_type": "text"
      },
      "source": [
        "### Separação do dataset em Treinamento e Teste"
      ]
    },
    {
      "cell_type": "code",
      "metadata": {
        "id": "gDImKxMazOuv",
        "colab_type": "code",
        "colab": {}
      },
      "source": [
        "features_train, features_test, target_train, target_test = train_test_split(normalized, target, test_size=0.30, random_state=42)"
      ],
      "execution_count": 159,
      "outputs": []
    },
    {
      "cell_type": "markdown",
      "metadata": {
        "id": "dtVizn8bDwY4",
        "colab_type": "text"
      },
      "source": [
        "### Dataframe para comparação"
      ]
    },
    {
      "cell_type": "code",
      "metadata": {
        "id": "MkGxdIvYDzm3",
        "colab_type": "code",
        "colab": {}
      },
      "source": [
        "result_dataframe = []\n",
        "result_index = []\n",
        "col_names = ['Acurácia','Precisão','Recall','Tempo de Treinamento','Tempo de Predição']"
      ],
      "execution_count": 160,
      "outputs": []
    },
    {
      "cell_type": "markdown",
      "metadata": {
        "id": "MPnDdtJyLkmY",
        "colab_type": "text"
      },
      "source": [
        "### K-NN"
      ]
    },
    {
      "cell_type": "markdown",
      "metadata": {
        "id": "7erlTkTgCNVf",
        "colab_type": "text"
      },
      "source": [
        "Modelo"
      ]
    },
    {
      "cell_type": "code",
      "metadata": {
        "id": "QzW8icEqCPxI",
        "colab_type": "code",
        "colab": {}
      },
      "source": [
        "knn = KNeighborsClassifier(n_neighbors=5)"
      ],
      "execution_count": 161,
      "outputs": []
    },
    {
      "cell_type": "markdown",
      "metadata": {
        "id": "RmOHSE-BCRbR",
        "colab_type": "text"
      },
      "source": [
        "Treinamento"
      ]
    },
    {
      "cell_type": "code",
      "metadata": {
        "id": "hTPMKsneLsp8",
        "colab_type": "code",
        "colab": {
          "base_uri": "https://localhost:8080/",
          "height": 34
        },
        "outputId": "c4689c52-522e-45c7-b2cd-a5207dbc4ed2"
      },
      "source": [
        "knn_fit_start = time.time()\n",
        "knn.fit(features_train, target_train.values.ravel())\n",
        "knn_fit_end = time.time()\n",
        "\n",
        "knn_training_time = knn_fit_end - knn_fit_start\n",
        "\n",
        "print(f'Tempo de treinamento: {knn_training_time}s')"
      ],
      "execution_count": 162,
      "outputs": [
        {
          "output_type": "stream",
          "text": [
            "Tempo de treinamento: 0.0028076171875s\n"
          ],
          "name": "stdout"
        }
      ]
    },
    {
      "cell_type": "markdown",
      "metadata": {
        "id": "8ug17EztCHdC",
        "colab_type": "text"
      },
      "source": [
        "Classificação"
      ]
    },
    {
      "cell_type": "code",
      "metadata": {
        "id": "FmHgkmnKCJc_",
        "colab_type": "code",
        "colab": {
          "base_uri": "https://localhost:8080/",
          "height": 34
        },
        "outputId": "ca83209b-d8ba-41db-a5f3-34c44438e7f3"
      },
      "source": [
        "knn_predict_start = time.time()\n",
        "knn_pred = knn.predict(features_test)\n",
        "knn_predict_end = time.time()\n",
        "\n",
        "knn_prediction_time = knn_predict_end - knn_predict_start\n",
        "print(f'Tempo de predição: {knn_prediction_time}s')"
      ],
      "execution_count": 163,
      "outputs": [
        {
          "output_type": "stream",
          "text": [
            "Tempo de predição: 0.014962434768676758s\n"
          ],
          "name": "stdout"
        }
      ]
    },
    {
      "cell_type": "markdown",
      "metadata": {
        "id": "SznDxpTKFoC0",
        "colab_type": "text"
      },
      "source": [
        "Matriz de Confusão - K-NN"
      ]
    },
    {
      "cell_type": "code",
      "metadata": {
        "id": "XK4CmJ2-Fs8S",
        "colab_type": "code",
        "colab": {
          "base_uri": "https://localhost:8080/",
          "height": 51
        },
        "outputId": "17d125f7-35ab-4cc9-b58a-06892a4336f0"
      },
      "source": [
        "print(confusion_matrix(target_test, knn_pred))"
      ],
      "execution_count": 164,
      "outputs": [
        {
          "output_type": "stream",
          "text": [
            "[[32  9]\n",
            " [11 39]]\n"
          ],
          "name": "stdout"
        }
      ]
    },
    {
      "cell_type": "markdown",
      "metadata": {
        "id": "kgTCjk9fLwyi",
        "colab_type": "text"
      },
      "source": [
        "Relatório de Classificação K-NN"
      ]
    },
    {
      "cell_type": "code",
      "metadata": {
        "id": "ACaIfrCcL0rO",
        "colab_type": "code",
        "colab": {
          "base_uri": "https://localhost:8080/",
          "height": 170
        },
        "outputId": "0fada6c8-7ea3-4d68-ad5b-bd04576e47f6"
      },
      "source": [
        "print(classification_report(target_test, knn_pred))"
      ],
      "execution_count": 165,
      "outputs": [
        {
          "output_type": "stream",
          "text": [
            "              precision    recall  f1-score   support\n",
            "\n",
            "           0       0.74      0.78      0.76        41\n",
            "           1       0.81      0.78      0.80        50\n",
            "\n",
            "    accuracy                           0.78        91\n",
            "   macro avg       0.78      0.78      0.78        91\n",
            "weighted avg       0.78      0.78      0.78        91\n",
            "\n"
          ],
          "name": "stdout"
        }
      ]
    },
    {
      "cell_type": "markdown",
      "metadata": {
        "id": "LEQxrztxDGa1",
        "colab_type": "text"
      },
      "source": [
        "Coleta de demais dados"
      ]
    },
    {
      "cell_type": "code",
      "metadata": {
        "id": "KiTw_d1TDI3J",
        "colab_type": "code",
        "colab": {
          "base_uri": "https://localhost:8080/",
          "height": 34
        },
        "outputId": "862533c8-ee2b-4467-bd9f-e212c92ae901"
      },
      "source": [
        "knn_result = [accuracy_score(target_test, knn_pred), precision_score(target_test, knn_pred), recall_score(target_test, knn_pred), knn_training_time, knn_prediction_time]\n",
        "result_dataframe.append(knn_result)\n",
        "result_index.append('K-NN')\n",
        "print(knn_result)\n"
      ],
      "execution_count": 166,
      "outputs": [
        {
          "output_type": "stream",
          "text": [
            "[0.7802197802197802, 0.8125, 0.78, 0.0028076171875, 0.014962434768676758]\n"
          ],
          "name": "stdout"
        }
      ]
    },
    {
      "cell_type": "markdown",
      "metadata": {
        "id": "DiKCZHB8ZnGH",
        "colab_type": "text"
      },
      "source": [
        "### SVM"
      ]
    },
    {
      "cell_type": "markdown",
      "metadata": {
        "id": "UBQZkIePGBwM",
        "colab_type": "text"
      },
      "source": [
        "Modelo"
      ]
    },
    {
      "cell_type": "code",
      "metadata": {
        "id": "owQcFr9UZ9jM",
        "colab_type": "code",
        "colab": {}
      },
      "source": [
        "svc = SVC(gamma=2, C=1)"
      ],
      "execution_count": 167,
      "outputs": []
    },
    {
      "cell_type": "markdown",
      "metadata": {
        "id": "qR27Ny09GFkB",
        "colab_type": "text"
      },
      "source": [
        "Treinamento"
      ]
    },
    {
      "cell_type": "code",
      "metadata": {
        "id": "dgWRA6GuGJGr",
        "colab_type": "code",
        "colab": {
          "base_uri": "https://localhost:8080/",
          "height": 34
        },
        "outputId": "7c9ca25c-b70e-434c-9124-2a64d0e4435c"
      },
      "source": [
        "svc_fit_start = time.time()\n",
        "svc.fit(features_train, target_train.values.ravel())\n",
        "svc_fit_end = time.time()\n",
        "\n",
        "svc_training_time = svc_fit_end - svc_fit_start\n",
        "\n",
        "print(f'Tempo de treinamento: {svc_training_time}s')"
      ],
      "execution_count": 168,
      "outputs": [
        {
          "output_type": "stream",
          "text": [
            "Tempo de treinamento: 0.007783174514770508s\n"
          ],
          "name": "stdout"
        }
      ]
    },
    {
      "cell_type": "markdown",
      "metadata": {
        "id": "D66GcxnIGapn",
        "colab_type": "text"
      },
      "source": [
        "Classificação"
      ]
    },
    {
      "cell_type": "code",
      "metadata": {
        "id": "i12hlSytGb8H",
        "colab_type": "code",
        "colab": {
          "base_uri": "https://localhost:8080/",
          "height": 34
        },
        "outputId": "77f85e97-e721-4f5d-9077-cc4430d32df7"
      },
      "source": [
        "svc_predict_start = time.time()\n",
        "svc_pred = svc.predict(features_test)\n",
        "svc_predict_end = time.time()\n",
        "\n",
        "svc_prediction_time = svc_predict_end - svc_predict_start\n",
        "print(f'Tempo de predição: {svc_prediction_time}s')"
      ],
      "execution_count": 169,
      "outputs": [
        {
          "output_type": "stream",
          "text": [
            "Tempo de predição: 0.0023963451385498047s\n"
          ],
          "name": "stdout"
        }
      ]
    },
    {
      "cell_type": "markdown",
      "metadata": {
        "id": "cAzKyxpAa1tc",
        "colab_type": "text"
      },
      "source": [
        "Matriz de Confusão - SVC"
      ]
    },
    {
      "cell_type": "code",
      "metadata": {
        "id": "vYv33ANka4Bn",
        "colab_type": "code",
        "colab": {
          "base_uri": "https://localhost:8080/",
          "height": 51
        },
        "outputId": "78c25392-9ce4-4be2-a62d-f05223bf76a5"
      },
      "source": [
        "print(confusion_matrix(target_test, svc_pred))"
      ],
      "execution_count": 170,
      "outputs": [
        {
          "output_type": "stream",
          "text": [
            "[[34  7]\n",
            " [ 9 41]]\n"
          ],
          "name": "stdout"
        }
      ]
    },
    {
      "cell_type": "markdown",
      "metadata": {
        "id": "-ljyOceEbpsY",
        "colab_type": "text"
      },
      "source": [
        "Relatório de Classificação SVC"
      ]
    },
    {
      "cell_type": "code",
      "metadata": {
        "id": "x9ag1Fskbr09",
        "colab_type": "code",
        "colab": {
          "base_uri": "https://localhost:8080/",
          "height": 170
        },
        "outputId": "3fd5c184-8e37-4b23-fcf1-717d7d32a6db"
      },
      "source": [
        "print(classification_report(target_test, svc_pred))"
      ],
      "execution_count": 171,
      "outputs": [
        {
          "output_type": "stream",
          "text": [
            "              precision    recall  f1-score   support\n",
            "\n",
            "           0       0.79      0.83      0.81        41\n",
            "           1       0.85      0.82      0.84        50\n",
            "\n",
            "    accuracy                           0.82        91\n",
            "   macro avg       0.82      0.82      0.82        91\n",
            "weighted avg       0.83      0.82      0.82        91\n",
            "\n"
          ],
          "name": "stdout"
        }
      ]
    },
    {
      "cell_type": "markdown",
      "metadata": {
        "id": "24Z029ayGxnh",
        "colab_type": "text"
      },
      "source": [
        "Coleta dos demais dados"
      ]
    },
    {
      "cell_type": "code",
      "metadata": {
        "id": "X7YmCojIGy_J",
        "colab_type": "code",
        "colab": {
          "base_uri": "https://localhost:8080/",
          "height": 34
        },
        "outputId": "3aa36561-c187-4895-b4e7-048898899ec7"
      },
      "source": [
        "svc_result = [accuracy_score(target_test, svc_pred), precision_score(target_test, svc_pred), recall_score(target_test, svc_pred), svc_training_time, svc_prediction_time]\n",
        "result_dataframe.append(svc_result)\n",
        "result_index.append('SVM')\n",
        "print(svc_result)"
      ],
      "execution_count": 172,
      "outputs": [
        {
          "output_type": "stream",
          "text": [
            "[0.8241758241758241, 0.8541666666666666, 0.82, 0.007783174514770508, 0.0023963451385498047]\n"
          ],
          "name": "stdout"
        }
      ]
    },
    {
      "cell_type": "markdown",
      "metadata": {
        "id": "v0LSNgzec4qA",
        "colab_type": "text"
      },
      "source": [
        "### Random Forest\n",
        "\n"
      ]
    },
    {
      "cell_type": "markdown",
      "metadata": {
        "id": "Wk27rgWJHBms",
        "colab_type": "text"
      },
      "source": [
        "Modelo"
      ]
    },
    {
      "cell_type": "code",
      "metadata": {
        "id": "ASJIRi4oc_It",
        "colab_type": "code",
        "colab": {}
      },
      "source": [
        "rf = RandomForestClassifier(max_depth=5, n_estimators=10)"
      ],
      "execution_count": 173,
      "outputs": []
    },
    {
      "cell_type": "markdown",
      "metadata": {
        "id": "FxkIuHthHFE0",
        "colab_type": "text"
      },
      "source": [
        "Treinamento"
      ]
    },
    {
      "cell_type": "code",
      "metadata": {
        "id": "KWQlSkaJHGLh",
        "colab_type": "code",
        "colab": {
          "base_uri": "https://localhost:8080/",
          "height": 34
        },
        "outputId": "9ec6185f-bcc7-4ea9-95bd-e4d93399d86e"
      },
      "source": [
        "rf_fit_start = time.time()\n",
        "rf.fit(features_train, target_train.values.ravel())\n",
        "rf_fit_end = time.time()\n",
        "\n",
        "rf_training_time = rf_fit_end - rf_fit_start\n",
        "\n",
        "print(f'Tempo de treinamento: {rf_training_time}s')"
      ],
      "execution_count": 174,
      "outputs": [
        {
          "output_type": "stream",
          "text": [
            "Tempo de treinamento: 0.018732547760009766s\n"
          ],
          "name": "stdout"
        }
      ]
    },
    {
      "cell_type": "markdown",
      "metadata": {
        "id": "qCmpWQgbHW2k",
        "colab_type": "text"
      },
      "source": [
        "Classificação"
      ]
    },
    {
      "cell_type": "code",
      "metadata": {
        "id": "_Xmq7LdaHYLE",
        "colab_type": "code",
        "colab": {
          "base_uri": "https://localhost:8080/",
          "height": 34
        },
        "outputId": "b8f5f4dc-9d06-4d27-cf56-d31a08f2e015"
      },
      "source": [
        "rf_predict_start = time.time()\n",
        "rf_pred = rf.predict(features_test)\n",
        "rf_predict_end = time.time()\n",
        "\n",
        "rf_prediction_time = rf_predict_end - rf_predict_start\n",
        "print(f'Tempo de predição: {rf_prediction_time}s')"
      ],
      "execution_count": 175,
      "outputs": [
        {
          "output_type": "stream",
          "text": [
            "Tempo de predição: 0.005172014236450195s\n"
          ],
          "name": "stdout"
        }
      ]
    },
    {
      "cell_type": "markdown",
      "metadata": {
        "id": "5kn22tw6dhjm",
        "colab_type": "text"
      },
      "source": [
        "Matriz de Confusão - Random Forest"
      ]
    },
    {
      "cell_type": "code",
      "metadata": {
        "id": "Ps2ZfFcCdkfX",
        "colab_type": "code",
        "colab": {
          "base_uri": "https://localhost:8080/",
          "height": 51
        },
        "outputId": "0f1da063-b34b-4e07-fa4d-8614edca102e"
      },
      "source": [
        "print(confusion_matrix(target_test, rf_pred))"
      ],
      "execution_count": 176,
      "outputs": [
        {
          "output_type": "stream",
          "text": [
            "[[31 10]\n",
            " [ 9 41]]\n"
          ],
          "name": "stdout"
        }
      ]
    },
    {
      "cell_type": "markdown",
      "metadata": {
        "id": "E7kphVKzdtRN",
        "colab_type": "text"
      },
      "source": [
        "Relatório de Classificação Random Forest"
      ]
    },
    {
      "cell_type": "code",
      "metadata": {
        "id": "DCxC4mG6dvDg",
        "colab_type": "code",
        "colab": {
          "base_uri": "https://localhost:8080/",
          "height": 170
        },
        "outputId": "23f6a95f-da44-4ad0-e838-ae92aeebf2b1"
      },
      "source": [
        "print (classification_report(target_test, rf_pred))"
      ],
      "execution_count": 177,
      "outputs": [
        {
          "output_type": "stream",
          "text": [
            "              precision    recall  f1-score   support\n",
            "\n",
            "           0       0.78      0.76      0.77        41\n",
            "           1       0.80      0.82      0.81        50\n",
            "\n",
            "    accuracy                           0.79        91\n",
            "   macro avg       0.79      0.79      0.79        91\n",
            "weighted avg       0.79      0.79      0.79        91\n",
            "\n"
          ],
          "name": "stdout"
        }
      ]
    },
    {
      "cell_type": "markdown",
      "metadata": {
        "id": "uYqrwRh7HyZs",
        "colab_type": "text"
      },
      "source": [
        "Coleta dos demais dados"
      ]
    },
    {
      "cell_type": "code",
      "metadata": {
        "id": "prqH2X4sHz-q",
        "colab_type": "code",
        "colab": {
          "base_uri": "https://localhost:8080/",
          "height": 34
        },
        "outputId": "4ae44c23-8b17-4a1c-a4e6-341042f05c1f"
      },
      "source": [
        "rf_result = [accuracy_score(target_test, rf_pred), precision_score(target_test, rf_pred), recall_score(target_test, rf_pred), rf_training_time, rf_prediction_time]\n",
        "result_dataframe.append(rf_result)\n",
        "result_index.append('Random Forest')\n",
        "print(rf_result)"
      ],
      "execution_count": 178,
      "outputs": [
        {
          "output_type": "stream",
          "text": [
            "[0.7912087912087912, 0.803921568627451, 0.82, 0.018732547760009766, 0.005172014236450195]\n"
          ],
          "name": "stdout"
        }
      ]
    },
    {
      "cell_type": "markdown",
      "metadata": {
        "id": "UD34i_2Yd48f",
        "colab_type": "text"
      },
      "source": [
        "### MLP"
      ]
    },
    {
      "cell_type": "markdown",
      "metadata": {
        "id": "H3WPuVHMJ_0S",
        "colab_type": "text"
      },
      "source": [
        "Modelo"
      ]
    },
    {
      "cell_type": "code",
      "metadata": {
        "id": "1Hzh8bsXKAzg",
        "colab_type": "code",
        "colab": {}
      },
      "source": [
        "mlp =  MLPClassifier(hidden_layer_sizes=(32, 32), max_iter=50000, batch_size=64, alpha=1e-1)"
      ],
      "execution_count": 179,
      "outputs": []
    },
    {
      "cell_type": "markdown",
      "metadata": {
        "id": "d3vB4munKDqU",
        "colab_type": "text"
      },
      "source": [
        "Treinamento"
      ]
    },
    {
      "cell_type": "code",
      "metadata": {
        "id": "pRRudJTxd6mH",
        "colab_type": "code",
        "colab": {
          "base_uri": "https://localhost:8080/",
          "height": 34
        },
        "outputId": "7cb248a0-67f3-41b0-cf06-2321c5477619"
      },
      "source": [
        "mlp_fit_start = time.time()\n",
        "mlp.fit(features_train, target_train.values.ravel())\n",
        "mlp_fit_end = time.time()\n",
        "\n",
        "mlp_training_time = mlp_fit_end - mlp_fit_start\n",
        "\n",
        "print(f'Tempo de treinamento: {mlp_training_time}s')"
      ],
      "execution_count": 180,
      "outputs": [
        {
          "output_type": "stream",
          "text": [
            "Tempo de treinamento: 1.3136470317840576s\n"
          ],
          "name": "stdout"
        }
      ]
    },
    {
      "cell_type": "markdown",
      "metadata": {
        "id": "-TcX9pphKRIX",
        "colab_type": "text"
      },
      "source": [
        "Classificação"
      ]
    },
    {
      "cell_type": "code",
      "metadata": {
        "id": "HvFUVo_NKSQJ",
        "colab_type": "code",
        "colab": {
          "base_uri": "https://localhost:8080/",
          "height": 34
        },
        "outputId": "60cc95f7-906d-4488-862f-ebdc4a77e948"
      },
      "source": [
        "mlp_predict_start = time.time()\n",
        "mlp_pred = mlp.predict(features_test)\n",
        "mlp_predict_end = time.time()\n",
        "\n",
        "mlp_prediction_time = mlp_predict_end - mlp_predict_start\n",
        "print(f'Tempo de predição: {mlp_prediction_time}s')"
      ],
      "execution_count": 181,
      "outputs": [
        {
          "output_type": "stream",
          "text": [
            "Tempo de predição: 0.0022001266479492188s\n"
          ],
          "name": "stdout"
        }
      ]
    },
    {
      "cell_type": "markdown",
      "metadata": {
        "id": "4l1aiamAe3Y8",
        "colab_type": "text"
      },
      "source": [
        "Matriz de Confusão - MLP"
      ]
    },
    {
      "cell_type": "code",
      "metadata": {
        "id": "VIfAHdpVe5Q_",
        "colab_type": "code",
        "colab": {
          "base_uri": "https://localhost:8080/",
          "height": 51
        },
        "outputId": "859db8a0-c205-4abf-f4dc-937180ddf12b"
      },
      "source": [
        "print(confusion_matrix(target_test, mlp_pred))"
      ],
      "execution_count": 182,
      "outputs": [
        {
          "output_type": "stream",
          "text": [
            "[[33  8]\n",
            " [ 8 42]]\n"
          ],
          "name": "stdout"
        }
      ]
    },
    {
      "cell_type": "markdown",
      "metadata": {
        "id": "nWheFGQ9hX9p",
        "colab_type": "text"
      },
      "source": [
        "Relatório de Classificação MPL"
      ]
    },
    {
      "cell_type": "code",
      "metadata": {
        "id": "iH4PwyEBhZdU",
        "colab_type": "code",
        "colab": {
          "base_uri": "https://localhost:8080/",
          "height": 170
        },
        "outputId": "648183d0-512b-4f2e-ece7-cc3c4d387971"
      },
      "source": [
        "print(classification_report(target_test, mlp_pred))"
      ],
      "execution_count": 183,
      "outputs": [
        {
          "output_type": "stream",
          "text": [
            "              precision    recall  f1-score   support\n",
            "\n",
            "           0       0.80      0.80      0.80        41\n",
            "           1       0.84      0.84      0.84        50\n",
            "\n",
            "    accuracy                           0.82        91\n",
            "   macro avg       0.82      0.82      0.82        91\n",
            "weighted avg       0.82      0.82      0.82        91\n",
            "\n"
          ],
          "name": "stdout"
        }
      ]
    },
    {
      "cell_type": "markdown",
      "metadata": {
        "id": "wxgshB19KiPm",
        "colab_type": "text"
      },
      "source": [
        "Coleta dos demais dados"
      ]
    },
    {
      "cell_type": "code",
      "metadata": {
        "id": "S3Dp24jIKjxN",
        "colab_type": "code",
        "colab": {
          "base_uri": "https://localhost:8080/",
          "height": 34
        },
        "outputId": "91f8f010-cda1-418f-e04f-23b06119a09e"
      },
      "source": [
        "mlp_result = [accuracy_score(target_test, mlp_pred), precision_score(target_test, mlp_pred), recall_score(target_test, mlp_pred), mlp_training_time, mlp_prediction_time]\n",
        "result_dataframe.append(mlp_result)\n",
        "result_index.append('MLP')\n",
        "print(mlp_result)"
      ],
      "execution_count": 184,
      "outputs": [
        {
          "output_type": "stream",
          "text": [
            "[0.8241758241758241, 0.84, 0.84, 1.3136470317840576, 0.0022001266479492188]\n"
          ],
          "name": "stdout"
        }
      ]
    },
    {
      "cell_type": "markdown",
      "metadata": {
        "id": "_zSe5H5ehjSX",
        "colab_type": "text"
      },
      "source": [
        "### Gradient Boosting"
      ]
    },
    {
      "cell_type": "markdown",
      "metadata": {
        "id": "zavRw1AtLOhi",
        "colab_type": "text"
      },
      "source": [
        "Modelo"
      ]
    },
    {
      "cell_type": "code",
      "metadata": {
        "id": "iaeLOelbLPmr",
        "colab_type": "code",
        "colab": {}
      },
      "source": [
        "gBoosting =  GradientBoostingClassifier(n_estimators=10)"
      ],
      "execution_count": 185,
      "outputs": []
    },
    {
      "cell_type": "markdown",
      "metadata": {
        "id": "GPlIrTYtLStg",
        "colab_type": "text"
      },
      "source": [
        "Treinamento"
      ]
    },
    {
      "cell_type": "code",
      "metadata": {
        "id": "nQOBKCeijCPZ",
        "colab_type": "code",
        "colab": {
          "base_uri": "https://localhost:8080/",
          "height": 34
        },
        "outputId": "d20a92fc-7026-4d88-cf2f-30841881e145"
      },
      "source": [
        "gb_fit_start = time.time()\n",
        "gBoosting.fit(features_train, target_train.values.ravel())\n",
        "gb_fit_end = time.time()\n",
        "\n",
        "gb_training_time = gb_fit_end - gb_fit_start\n",
        "\n",
        "print(f'Tempo de treinamento: {gb_training_time}s')"
      ],
      "execution_count": 186,
      "outputs": [
        {
          "output_type": "stream",
          "text": [
            "Tempo de treinamento: 0.017730236053466797s\n"
          ],
          "name": "stdout"
        }
      ]
    },
    {
      "cell_type": "markdown",
      "metadata": {
        "id": "8Z4uu33dLhbs",
        "colab_type": "text"
      },
      "source": [
        "Classificação"
      ]
    },
    {
      "cell_type": "code",
      "metadata": {
        "id": "1o5ckRefLijj",
        "colab_type": "code",
        "colab": {
          "base_uri": "https://localhost:8080/",
          "height": 34
        },
        "outputId": "4a2b6d61-17fc-46a8-d29a-346bf215c687"
      },
      "source": [
        "gb_predict_start = time.time()\n",
        "gBoosting_pred = gBoosting.predict(features_test)\n",
        "gb_predict_end = time.time()\n",
        "\n",
        "gb_prediction_time = gb_predict_end - gb_predict_start\n",
        "print(f'Tempo de predição: {gb_prediction_time}s')"
      ],
      "execution_count": 187,
      "outputs": [
        {
          "output_type": "stream",
          "text": [
            "Tempo de predição: 0.0028340816497802734s\n"
          ],
          "name": "stdout"
        }
      ]
    },
    {
      "cell_type": "markdown",
      "metadata": {
        "id": "l-40GDmolLNl",
        "colab_type": "text"
      },
      "source": [
        "Matriz de Confusão - Gradient Boosting"
      ]
    },
    {
      "cell_type": "code",
      "metadata": {
        "id": "TFXAv20ElNwh",
        "colab_type": "code",
        "colab": {
          "base_uri": "https://localhost:8080/",
          "height": 51
        },
        "outputId": "20a4e715-6db2-4898-afe7-2cd4561b4a76"
      },
      "source": [
        "print(confusion_matrix(target_test, gBoosting_pred))"
      ],
      "execution_count": 188,
      "outputs": [
        {
          "output_type": "stream",
          "text": [
            "[[33  8]\n",
            " [10 40]]\n"
          ],
          "name": "stdout"
        }
      ]
    },
    {
      "cell_type": "markdown",
      "metadata": {
        "id": "DHswvOTdlW6a",
        "colab_type": "text"
      },
      "source": [
        "Relatório de Classificação Gradient Boosting"
      ]
    },
    {
      "cell_type": "code",
      "metadata": {
        "id": "tcnICO8XlbHj",
        "colab_type": "code",
        "colab": {
          "base_uri": "https://localhost:8080/",
          "height": 170
        },
        "outputId": "22b7b2f1-20f7-4b90-deee-00b95cc4f4ae"
      },
      "source": [
        "print(classification_report(target_test, gBoosting_pred))"
      ],
      "execution_count": 189,
      "outputs": [
        {
          "output_type": "stream",
          "text": [
            "              precision    recall  f1-score   support\n",
            "\n",
            "           0       0.77      0.80      0.79        41\n",
            "           1       0.83      0.80      0.82        50\n",
            "\n",
            "    accuracy                           0.80        91\n",
            "   macro avg       0.80      0.80      0.80        91\n",
            "weighted avg       0.80      0.80      0.80        91\n",
            "\n"
          ],
          "name": "stdout"
        }
      ]
    },
    {
      "cell_type": "markdown",
      "metadata": {
        "id": "GkbSYklPLwAF",
        "colab_type": "text"
      },
      "source": [
        "Coleta dos demais dados"
      ]
    },
    {
      "cell_type": "code",
      "metadata": {
        "id": "Rd9rWa-kLx1R",
        "colab_type": "code",
        "colab": {
          "base_uri": "https://localhost:8080/",
          "height": 34
        },
        "outputId": "fee33f3b-4997-489a-8657-6ab1049d1c8c"
      },
      "source": [
        "gb_result = [accuracy_score(target_test, gBoosting_pred), precision_score(target_test, gBoosting_pred), recall_score(target_test, gBoosting_pred), gb_training_time, gb_prediction_time]\n",
        "result_dataframe.append(gb_result)\n",
        "result_index.append('Gradient Boosting')\n",
        "print(gb_result)"
      ],
      "execution_count": 190,
      "outputs": [
        {
          "output_type": "stream",
          "text": [
            "[0.8021978021978022, 0.8333333333333334, 0.8, 0.017730236053466797, 0.0028340816497802734]\n"
          ],
          "name": "stdout"
        }
      ]
    },
    {
      "cell_type": "markdown",
      "metadata": {
        "id": "_PkSwxSlMV2a",
        "colab_type": "text"
      },
      "source": [
        "### Tablela comparativa dos Classificadores"
      ]
    },
    {
      "cell_type": "markdown",
      "metadata": {
        "id": "jdTv1kajMbJj",
        "colab_type": "text"
      },
      "source": [
        "Compilando dados"
      ]
    },
    {
      "cell_type": "code",
      "metadata": {
        "id": "etY73NYUMaM4",
        "colab_type": "code",
        "colab": {}
      },
      "source": [
        "final_df = pd.DataFrame(result_dataframe, columns = col_names, index=result_index)"
      ],
      "execution_count": 191,
      "outputs": []
    },
    {
      "cell_type": "markdown",
      "metadata": {
        "id": "Iwye03gVMebS",
        "colab_type": "text"
      },
      "source": [
        "Exibindo a tabela comparativa"
      ]
    },
    {
      "cell_type": "code",
      "metadata": {
        "id": "V5DK5OLYNaik",
        "colab_type": "code",
        "colab": {
          "base_uri": "https://localhost:8080/",
          "height": 204
        },
        "outputId": "c1f9ff45-8bdf-48c3-9f26-107cb32a8bd8"
      },
      "source": [
        "final_df.head()"
      ],
      "execution_count": 192,
      "outputs": [
        {
          "output_type": "execute_result",
          "data": {
            "text/html": [
              "<div>\n",
              "<style scoped>\n",
              "    .dataframe tbody tr th:only-of-type {\n",
              "        vertical-align: middle;\n",
              "    }\n",
              "\n",
              "    .dataframe tbody tr th {\n",
              "        vertical-align: top;\n",
              "    }\n",
              "\n",
              "    .dataframe thead th {\n",
              "        text-align: right;\n",
              "    }\n",
              "</style>\n",
              "<table border=\"1\" class=\"dataframe\">\n",
              "  <thead>\n",
              "    <tr style=\"text-align: right;\">\n",
              "      <th></th>\n",
              "      <th>Acurácia</th>\n",
              "      <th>Precisão</th>\n",
              "      <th>Recall</th>\n",
              "      <th>Tempo de Treinamento</th>\n",
              "      <th>Tempo de Predição</th>\n",
              "    </tr>\n",
              "  </thead>\n",
              "  <tbody>\n",
              "    <tr>\n",
              "      <th>K-NN</th>\n",
              "      <td>0.780220</td>\n",
              "      <td>0.812500</td>\n",
              "      <td>0.78</td>\n",
              "      <td>0.002808</td>\n",
              "      <td>0.014962</td>\n",
              "    </tr>\n",
              "    <tr>\n",
              "      <th>SVM</th>\n",
              "      <td>0.824176</td>\n",
              "      <td>0.854167</td>\n",
              "      <td>0.82</td>\n",
              "      <td>0.007783</td>\n",
              "      <td>0.002396</td>\n",
              "    </tr>\n",
              "    <tr>\n",
              "      <th>Random Forest</th>\n",
              "      <td>0.791209</td>\n",
              "      <td>0.803922</td>\n",
              "      <td>0.82</td>\n",
              "      <td>0.018733</td>\n",
              "      <td>0.005172</td>\n",
              "    </tr>\n",
              "    <tr>\n",
              "      <th>MLP</th>\n",
              "      <td>0.824176</td>\n",
              "      <td>0.840000</td>\n",
              "      <td>0.84</td>\n",
              "      <td>1.313647</td>\n",
              "      <td>0.002200</td>\n",
              "    </tr>\n",
              "    <tr>\n",
              "      <th>Gradient Boosting</th>\n",
              "      <td>0.802198</td>\n",
              "      <td>0.833333</td>\n",
              "      <td>0.80</td>\n",
              "      <td>0.017730</td>\n",
              "      <td>0.002834</td>\n",
              "    </tr>\n",
              "  </tbody>\n",
              "</table>\n",
              "</div>"
            ],
            "text/plain": [
              "                   Acurácia  Precisão  ...  Tempo de Treinamento  Tempo de Predição\n",
              "K-NN               0.780220  0.812500  ...              0.002808           0.014962\n",
              "SVM                0.824176  0.854167  ...              0.007783           0.002396\n",
              "Random Forest      0.791209  0.803922  ...              0.018733           0.005172\n",
              "MLP                0.824176  0.840000  ...              1.313647           0.002200\n",
              "Gradient Boosting  0.802198  0.833333  ...              0.017730           0.002834\n",
              "\n",
              "[5 rows x 5 columns]"
            ]
          },
          "metadata": {
            "tags": []
          },
          "execution_count": 192
        }
      ]
    },
    {
      "cell_type": "markdown",
      "metadata": {
        "id": "Awm-RUdKSnM9",
        "colab_type": "text"
      },
      "source": [
        "## Comentários finais"
      ]
    },
    {
      "cell_type": "markdown",
      "metadata": {
        "id": "1xvDHlRBSpth",
        "colab_type": "text"
      },
      "source": [
        "Após várias execuções pude veriricar que as melhores acurácias ficam com SVM, MLP e Random Forest, com maior destaque para o SVM. O K-NN ficou sempre como pior em relação a este quesito. Também pude perceber que o SVM e o Gradient Boosting, nesta ordem, sempre tiveram a melhor performance em relação ao tempo de treinamento e de predição. Neste quesito o MLP quase sempre figurou como pior. Em relação à precisão, ou seja, não classificar como hipertenso quem não é, se destacaram o SVM e o Gradient Boosting. Por último, para o recall, capacidade do classificador de encontrar todas as amostras positivas, o MLP teve destaque na maior partes das execuções que acompanhei.  "
      ]
    }
  ]
}